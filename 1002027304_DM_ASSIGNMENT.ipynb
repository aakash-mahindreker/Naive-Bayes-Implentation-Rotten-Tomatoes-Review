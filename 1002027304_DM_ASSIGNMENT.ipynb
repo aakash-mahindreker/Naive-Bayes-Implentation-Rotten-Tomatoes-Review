{
  "nbformat": 4,
  "nbformat_minor": 0,
  "metadata": {
    "colab": {
      "provenance": []
    },
    "kernelspec": {
      "name": "python3",
      "display_name": "Python 3"
    },
    "language_info": {
      "name": "python"
    }
  },
  "cells": [
    {
      "cell_type": "markdown",
      "source": [
        "# Load Data"
      ],
      "metadata": {
        "id": "cAVG1yLDRuyf"
      }
    },
    {
      "cell_type": "code",
      "execution_count": 1,
      "metadata": {
        "colab": {
          "base_uri": "https://localhost:8080/",
          "height": 260
        },
        "id": "YHzZ4Do5RnxS",
        "outputId": "b75af635-ab5b-4318-9d2a-3d02903ff78a"
      },
      "outputs": [
        {
          "output_type": "execute_result",
          "data": {
            "text/plain": [
              "  Freshness                                             Review\n",
              "0     fresh   Manakamana doesn't answer any questions, yet ...\n",
              "1     fresh   Wilfully offensive and powered by a chest-thu...\n",
              "2    rotten   It would be difficult to imagine material mor...\n",
              "3    rotten   Despite the gusto its star brings to the role...\n",
              "4    rotten   If there was a good idea at the core of this ..."
            ],
            "text/html": [
              "\n",
              "  <div id=\"df-c2152fc7-8f66-4509-b587-a73634bfa649\">\n",
              "    <div class=\"colab-df-container\">\n",
              "      <div>\n",
              "<style scoped>\n",
              "    .dataframe tbody tr th:only-of-type {\n",
              "        vertical-align: middle;\n",
              "    }\n",
              "\n",
              "    .dataframe tbody tr th {\n",
              "        vertical-align: top;\n",
              "    }\n",
              "\n",
              "    .dataframe thead th {\n",
              "        text-align: right;\n",
              "    }\n",
              "</style>\n",
              "<table border=\"1\" class=\"dataframe\">\n",
              "  <thead>\n",
              "    <tr style=\"text-align: right;\">\n",
              "      <th></th>\n",
              "      <th>Freshness</th>\n",
              "      <th>Review</th>\n",
              "    </tr>\n",
              "  </thead>\n",
              "  <tbody>\n",
              "    <tr>\n",
              "      <th>0</th>\n",
              "      <td>fresh</td>\n",
              "      <td>Manakamana doesn't answer any questions, yet ...</td>\n",
              "    </tr>\n",
              "    <tr>\n",
              "      <th>1</th>\n",
              "      <td>fresh</td>\n",
              "      <td>Wilfully offensive and powered by a chest-thu...</td>\n",
              "    </tr>\n",
              "    <tr>\n",
              "      <th>2</th>\n",
              "      <td>rotten</td>\n",
              "      <td>It would be difficult to imagine material mor...</td>\n",
              "    </tr>\n",
              "    <tr>\n",
              "      <th>3</th>\n",
              "      <td>rotten</td>\n",
              "      <td>Despite the gusto its star brings to the role...</td>\n",
              "    </tr>\n",
              "    <tr>\n",
              "      <th>4</th>\n",
              "      <td>rotten</td>\n",
              "      <td>If there was a good idea at the core of this ...</td>\n",
              "    </tr>\n",
              "  </tbody>\n",
              "</table>\n",
              "</div>\n",
              "      <button class=\"colab-df-convert\" onclick=\"convertToInteractive('df-c2152fc7-8f66-4509-b587-a73634bfa649')\"\n",
              "              title=\"Convert this dataframe to an interactive table.\"\n",
              "              style=\"display:none;\">\n",
              "        \n",
              "  <svg xmlns=\"http://www.w3.org/2000/svg\" height=\"24px\"viewBox=\"0 0 24 24\"\n",
              "       width=\"24px\">\n",
              "    <path d=\"M0 0h24v24H0V0z\" fill=\"none\"/>\n",
              "    <path d=\"M18.56 5.44l.94 2.06.94-2.06 2.06-.94-2.06-.94-.94-2.06-.94 2.06-2.06.94zm-11 1L8.5 8.5l.94-2.06 2.06-.94-2.06-.94L8.5 2.5l-.94 2.06-2.06.94zm10 10l.94 2.06.94-2.06 2.06-.94-2.06-.94-.94-2.06-.94 2.06-2.06.94z\"/><path d=\"M17.41 7.96l-1.37-1.37c-.4-.4-.92-.59-1.43-.59-.52 0-1.04.2-1.43.59L10.3 9.45l-7.72 7.72c-.78.78-.78 2.05 0 2.83L4 21.41c.39.39.9.59 1.41.59.51 0 1.02-.2 1.41-.59l7.78-7.78 2.81-2.81c.8-.78.8-2.07 0-2.86zM5.41 20L4 18.59l7.72-7.72 1.47 1.35L5.41 20z\"/>\n",
              "  </svg>\n",
              "      </button>\n",
              "      \n",
              "  <style>\n",
              "    .colab-df-container {\n",
              "      display:flex;\n",
              "      flex-wrap:wrap;\n",
              "      gap: 12px;\n",
              "    }\n",
              "\n",
              "    .colab-df-convert {\n",
              "      background-color: #E8F0FE;\n",
              "      border: none;\n",
              "      border-radius: 50%;\n",
              "      cursor: pointer;\n",
              "      display: none;\n",
              "      fill: #1967D2;\n",
              "      height: 32px;\n",
              "      padding: 0 0 0 0;\n",
              "      width: 32px;\n",
              "    }\n",
              "\n",
              "    .colab-df-convert:hover {\n",
              "      background-color: #E2EBFA;\n",
              "      box-shadow: 0px 1px 2px rgba(60, 64, 67, 0.3), 0px 1px 3px 1px rgba(60, 64, 67, 0.15);\n",
              "      fill: #174EA6;\n",
              "    }\n",
              "\n",
              "    [theme=dark] .colab-df-convert {\n",
              "      background-color: #3B4455;\n",
              "      fill: #D2E3FC;\n",
              "    }\n",
              "\n",
              "    [theme=dark] .colab-df-convert:hover {\n",
              "      background-color: #434B5C;\n",
              "      box-shadow: 0px 1px 3px 1px rgba(0, 0, 0, 0.15);\n",
              "      filter: drop-shadow(0px 1px 2px rgba(0, 0, 0, 0.3));\n",
              "      fill: #FFFFFF;\n",
              "    }\n",
              "  </style>\n",
              "\n",
              "      <script>\n",
              "        const buttonEl =\n",
              "          document.querySelector('#df-c2152fc7-8f66-4509-b587-a73634bfa649 button.colab-df-convert');\n",
              "        buttonEl.style.display =\n",
              "          google.colab.kernel.accessAllowed ? 'block' : 'none';\n",
              "\n",
              "        async function convertToInteractive(key) {\n",
              "          const element = document.querySelector('#df-c2152fc7-8f66-4509-b587-a73634bfa649');\n",
              "          const dataTable =\n",
              "            await google.colab.kernel.invokeFunction('convertToInteractive',\n",
              "                                                     [key], {});\n",
              "          if (!dataTable) return;\n",
              "\n",
              "          const docLinkHtml = 'Like what you see? Visit the ' +\n",
              "            '<a target=\"_blank\" href=https://colab.research.google.com/notebooks/data_table.ipynb>data table notebook</a>'\n",
              "            + ' to learn more about interactive tables.';\n",
              "          element.innerHTML = '';\n",
              "          dataTable['output_type'] = 'display_data';\n",
              "          await google.colab.output.renderOutput(dataTable, element);\n",
              "          const docLink = document.createElement('div');\n",
              "          docLink.innerHTML = docLinkHtml;\n",
              "          element.appendChild(docLink);\n",
              "        }\n",
              "      </script>\n",
              "    </div>\n",
              "  </div>\n",
              "  "
            ]
          },
          "metadata": {},
          "execution_count": 1
        }
      ],
      "source": [
        "import pandas as pd\n",
        "data = pd.read_csv(\"./rt_reviews.csv\", encoding = \"ISO-8859-1\" )\n",
        "data=pd.DataFrame(data)\n",
        "data.head()"
      ]
    },
    {
      "cell_type": "code",
      "source": [
        "data.isnull().any()"
      ],
      "metadata": {
        "colab": {
          "base_uri": "https://localhost:8080/"
        },
        "id": "2UqF8DvdSr0h",
        "outputId": "fe28b534-1f4c-4908-a6ad-ff2bd4e63795"
      },
      "execution_count": 2,
      "outputs": [
        {
          "output_type": "execute_result",
          "data": {
            "text/plain": [
              "Freshness    False\n",
              "Review       False\n",
              "dtype: bool"
            ]
          },
          "metadata": {},
          "execution_count": 2
        }
      ]
    },
    {
      "cell_type": "markdown",
      "source": [
        "# Split Data"
      ],
      "metadata": {
        "id": "EZSE5XCsS4mP"
      }
    },
    {
      "cell_type": "code",
      "source": [
        "train_size = int(0.7*len(data))\n",
        "development_size = int(0.2*len(data))\n",
        "test_size = int(0.1*len(data))\n",
        "\n",
        "train=data[:train_size]\n",
        "development=data[train_size:train_size+development_size]\n",
        "test=data[train_size+development_size:]\n",
        "\n",
        "print(train.head(),\"\\n\",development.head(),\"\\n\",test.head())"
      ],
      "metadata": {
        "colab": {
          "base_uri": "https://localhost:8080/"
        },
        "id": "p4oqMl52S_iE",
        "outputId": "a335cc89-7130-44d4-d61d-1b573a8a209c"
      },
      "execution_count": 3,
      "outputs": [
        {
          "output_type": "stream",
          "name": "stdout",
          "text": [
            "  Freshness                                             Review\n",
            "0     fresh   Manakamana doesn't answer any questions, yet ...\n",
            "1     fresh   Wilfully offensive and powered by a chest-thu...\n",
            "2    rotten   It would be difficult to imagine material mor...\n",
            "3    rotten   Despite the gusto its star brings to the role...\n",
            "4    rotten   If there was a good idea at the core of this ... \n",
            "        Freshness                                             Review\n",
            "336000     fresh   Ultimate X is a ride, basically the kind of g...\n",
            "336001    rotten   Viewers will be mystified by the existence of...\n",
            "336002     fresh   The story might be familiar but the setting i...\n",
            "336003    rotten   A pleasant time-waster with non-abysmal perfo...\n",
            "336004     fresh   The difficulty and the key lies in taking a l... \n",
            "        Freshness                                             Review\n",
            "432000     fresh   It's the directorial debut of Clea Duvall and...\n",
            "432001    rotten   \"Joe\" is not handsome or especially smart, bu...\n",
            "432002    rotten   The movie doesn't convince us that any of thi...\n",
            "432003    rotten   Slickly sanitized, Destin Daniel Cretton's sc...\n",
            "432004    rotten   Both the scenery and performances in Beauvois...\n"
          ]
        }
      ]
    },
    {
      "cell_type": "markdown",
      "source": [
        "# Build Vocabulary List"
      ],
      "metadata": {
        "id": "eYwyeTRGVIQI"
      }
    },
    {
      "cell_type": "code",
      "source": [
        "documents = list(x.lower() for x in data.Review.values)\n",
        "positive_documents = list(x.lower() for x in data[data[\"Freshness\"]==\"fresh\"].Review.values)\n",
        "negative_documents = list(x.lower() for x in data[data[\"Freshness\"]==\"rotten\"].Review.values)\n",
        "\n",
        "vocabulary= {}\n",
        "for words in documents:\n",
        "  words = list(map(str,str(words).split(\" \")))\n",
        "  for word in words:\n",
        "    if word not in vocabulary:\n",
        "      vocabulary[word] = 1\n",
        "    else:\n",
        "      vocabulary[word] +=1\n",
        "vocabulary = {word: count for word, count in vocabulary.items() if count >= 5}\n",
        "\n",
        "positive_vocabulary= {}\n",
        "for words in positive_documents:\n",
        "  words = list(map(str,str(words).split(\" \")))\n",
        "  for word in words:\n",
        "    if word not in positive_vocabulary:\n",
        "      positive_vocabulary[word] = 1\n",
        "    else:\n",
        "      positive_vocabulary[word] +=1\n",
        "positive_vocabulary = {word: count for word, count in positive_vocabulary.items() if count >= 5}\n",
        "\n",
        "negative_vocabulary= {}\n",
        "for words in negative_documents:\n",
        "  words = list(map(str,str(words).split(\" \")))\n",
        "  for word in words:\n",
        "    if word not in negative_vocabulary:\n",
        "      negative_vocabulary[word] = 1\n",
        "    else:\n",
        "      negative_vocabulary[word] +=1\n",
        "negative_vocabulary = {word: count for word, count in negative_vocabulary.items() if count >= 5}\n"
      ],
      "metadata": {
        "id": "B8pd7PnYc3Kw"
      },
      "execution_count": 4,
      "outputs": []
    },
    {
      "cell_type": "markdown",
      "source": [
        "# Calculate Probabilities"
      ],
      "metadata": {
        "id": "dTsVyCjMfKPj"
      }
    },
    {
      "cell_type": "code",
      "source": [
        "def P(word):\n",
        "  word=word.lower()\n",
        "  w = {}\n",
        "  w[word] = 0\n",
        "  for row in documents:\n",
        "    review = list(map(str, str(row).split(\" \")))\n",
        "    if word in review:\n",
        "      w[word] += 1\n",
        "  a = w[word]/vocabulary[word]\n",
        "  result = f'{a:.10f}'\n",
        "  return result\n",
        "\n",
        "def CP(word):\n",
        "\n",
        "  word=word.lower()\n",
        "  pword = {}\n",
        "  pword[word] = 0\n",
        "  nword = {}\n",
        "  nword[word] = 0\n",
        "  \n",
        "  if word in positive_vocabulary:\n",
        "    for row in positive_documents:\n",
        "      review = list(map(str, str(row).split(\" \")))\n",
        "      if word in review:\n",
        "        pword[word] += 1\n",
        "    a = pword[word]/positive_vocabulary[word]\n",
        "    result1 = f'{a:.10f}'\n",
        "  else:\n",
        "    result1 = 0\n",
        "  if word in negative_vocabulary:\n",
        "    for row in negative_documents:\n",
        "      review = list(map(str, str(row).split(\" \")))\n",
        "      if word in review:\n",
        "        nword[word] += 1\n",
        "    a = nword[word]/negative_vocabulary[word]\n",
        "    result2 = f'{a:.10f}'\n",
        "  else:\n",
        "    result2 = 0\n",
        "  return [result1,result2]"
      ],
      "metadata": {
        "id": "iH7ZwHqFfJ2Y"
      },
      "execution_count": 5,
      "outputs": []
    },
    {
      "cell_type": "code",
      "source": [
        "cp= CP(\"the\")\n",
        "print(\"P('the')\",P(\"the\"))\n",
        "print(\"P(the|positive)\",cp[0],\"P(the|negative)\", cp[1])"
      ],
      "metadata": {
        "colab": {
          "base_uri": "https://localhost:8080/"
        },
        "id": "bR7Vd-B-fEKr",
        "outputId": "016b9cf2-5f68-42c2-96ba-c474723400ad"
      },
      "execution_count": 6,
      "outputs": [
        {
          "output_type": "stream",
          "name": "stdout",
          "text": [
            "P('the') 0.5670200047\n",
            "P(the|positive) 0.5633968243 P(the|negative) 0.5707046994\n"
          ]
        }
      ]
    },
    {
      "cell_type": "markdown",
      "source": [
        "# Calculate accuracy using Development data:"
      ],
      "metadata": {
        "id": "KyveGIIe3dbq"
      }
    },
    {
      "cell_type": "code",
      "source": [
        "def predict_class(review):\n",
        "  rwords = [word.lower() for word in review.split()]\n",
        "  words = []\n",
        "  for word in rwords:\n",
        "    if len(word)>3:\n",
        "      words.append(word)\n",
        "  pp = 1\n",
        "  np = 1\n",
        "  \n",
        "  for word in words:\n",
        "    if  word in vocabulary and P(word) > str(0.001):\n",
        "      cp = CP(word)\n",
        "      pp *= float(cp[0])\n",
        "      np *= float(cp[1])\n",
        "      if np<pp:\n",
        "        return \"fresh\"\n",
        "      else:\n",
        "        return \"rotten\"\n",
        "  return \"rotten\"\n",
        "\n",
        "#Calculate accuracy using Development data\n",
        "def evaluate(docs, n):\n",
        "  c=0\n",
        "  w=0\n",
        "  accuracy = []\n",
        "  loss = []\n",
        "  i=1\n",
        "  for row in docs.values:\n",
        "    if(predict_class(row[1])==row[0]):\n",
        "      c+=1\n",
        "      accuracy.append(c/i)\n",
        "    else:\n",
        "      w+=1\n",
        "      loss.append(w/i)\n",
        "    i+=1\n",
        "    if i==n:\n",
        "      break\n",
        "  return [accuracy,loss]"
      ],
      "metadata": {
        "id": "4HhvvnTutnnN"
      },
      "execution_count": 7,
      "outputs": []
    },
    {
      "cell_type": "code",
      "source": [
        "dev_eval10 = evaluate(development, 10)"
      ],
      "metadata": {
        "id": "Oj6zwB-b6otH"
      },
      "execution_count": 8,
      "outputs": []
    },
    {
      "cell_type": "code",
      "source": [
        "v_acc = sum(dev_eval10[0])/len(dev_eval10[0])*100\n",
        "print(\"Validation Accuracy:\",v_acc)"
      ],
      "metadata": {
        "colab": {
          "base_uri": "https://localhost:8080/"
        },
        "id": "MzgU8_v27KBy",
        "outputId": "5f673548-77c8-4de9-a085-15bc430ea4d6"
      },
      "execution_count": 9,
      "outputs": [
        {
          "output_type": "stream",
          "name": "stdout",
          "text": [
            "Validation Accuracy: 51.11111111111111\n"
          ]
        }
      ]
    },
    {
      "cell_type": "code",
      "source": [
        "v_loss = sum(dev_eval10[1])/len(dev_eval10[1])*100\n",
        "print(\"Validation loss:\",v_loss)\n"
      ],
      "metadata": {
        "colab": {
          "base_uri": "https://localhost:8080/"
        },
        "id": "CJfeCsc-7bre",
        "outputId": "89532636-c44b-42be-8797-ce1381a7ee2d"
      },
      "execution_count": 10,
      "outputs": [
        {
          "output_type": "stream",
          "name": "stdout",
          "text": [
            "Validation loss: 70.95238095238095\n"
          ]
        }
      ]
    },
    {
      "cell_type": "markdown",
      "source": [
        "# Derive top 10 words that classifies each class:"
      ],
      "metadata": {
        "id": "PW0RG2Nu9Cpg"
      }
    },
    {
      "cell_type": "code",
      "source": [
        "sorted_positive_vocabulary = dict(sorted(positive_vocabulary.items(), key=lambda x: x[1], reverse=True))"
      ],
      "metadata": {
        "id": "WlbjVDRF5pKj"
      },
      "execution_count": 11,
      "outputs": []
    },
    {
      "cell_type": "code",
      "source": [
        "i=1\n",
        "j=0\n",
        "print(\"Top 10 words for positive review:\")\n",
        "for key, value in list(sorted_positive_vocabulary.items())[:1000]:\n",
        "  if len(key)>5:\n",
        "    print(key, value)\n",
        "    j+=1\n",
        "  i+=1\n",
        "  if j == 10:\n",
        "    break"
      ],
      "metadata": {
        "colab": {
          "base_uri": "https://localhost:8080/"
        },
        "id": "_DKy1roN9hLo",
        "outputId": "d8649a32-e134-43c8-aaf6-8e304ce9d5d6"
      },
      "execution_count": 12,
      "outputs": [
        {
          "output_type": "stream",
          "name": "stdout",
          "text": [
            "Top 10 words for positive review:\n",
            "review 6450\n",
            "little 5702\n",
            "spanish] 5579\n",
            "that's 5532\n",
            "director 5392\n",
            "enough 5234\n",
            "doesn't 5197\n",
            "comedy 5180\n",
            "there's 5101\n",
            "action 4916\n"
          ]
        }
      ]
    },
    {
      "cell_type": "code",
      "source": [
        "sorted_negative_vocabulary = dict(sorted(negative_vocabulary.items(), key=lambda x: x[1], reverse=True))"
      ],
      "metadata": {
        "id": "v9Q7Okjx_e-u"
      },
      "execution_count": 13,
      "outputs": []
    },
    {
      "cell_type": "code",
      "source": [
        "i=1\n",
        "j=0\n",
        "print(\"Top 10 words for negative review:\")\n",
        "for key, value in list(sorted_negative_vocabulary.items())[:1000]:\n",
        "  if len(key)>5:\n",
        "    print(key, value)\n",
        "    j+=1\n",
        "  i+=1\n",
        "  if j == 10:\n",
        "    break"
      ],
      "metadata": {
        "colab": {
          "base_uri": "https://localhost:8080/"
        },
        "id": "KWJocTXc_UU8",
        "outputId": "159c9f0a-855a-4de0-fef8-d486fd111dd0"
      },
      "execution_count": 14,
      "outputs": [
        {
          "output_type": "stream",
          "name": "stdout",
          "text": [
            "Top 10 words for negative review:\n",
            "doesn't 8736\n",
            "little 7962\n",
            "there's 7109\n",
            "enough 6050\n",
            "that's 5708\n",
            "comedy 5519\n",
            "characters 5486\n",
            "really 5460\n",
            "nothing 4874\n",
            "something 4844\n"
          ]
        }
      ]
    },
    {
      "cell_type": "markdown",
      "source": [
        "# Apply Smoothing"
      ],
      "metadata": {
        "id": "DBnV37H1FEgm"
      }
    },
    {
      "cell_type": "code",
      "source": [
        "def smooth_predict_class(review):\n",
        "  rwords = [word.lower() for word in review.split()]\n",
        "  words = []\n",
        "  for word in rwords:\n",
        "    if len(word)>3:\n",
        "      words.append(word)\n",
        "  pp = 1\n",
        "  np = 1\n",
        "  \n",
        "  for word in words:\n",
        "    if  word in vocabulary and P(word) > str(0.001):\n",
        "      \n",
        "      cp = CP(word)\n",
        "      pp *= float(cp[0])\n",
        "      np *= float(cp[1])\n",
        "      #Apply Smoothing:\n",
        "      pwp = pp+1/vocabulary[word]*len(vocabulary)\n",
        "      pwn = np+1/vocabulary[word]*len(vocabulary)\n",
        "      if pwn<=pwp:\n",
        "        return \"fresh\"\n",
        "      else:\n",
        "        return \"rotten\"\n",
        "  return \"rotten\"\n",
        "\n",
        "#Calculate accuracy using Development data\n",
        "def smooth_evaluate(docs, n):\n",
        "  c=0\n",
        "  w=0\n",
        "  accuracy = []\n",
        "  loss = []\n",
        "  i=1\n",
        "  for row in docs.values:\n",
        "    if(smooth_predict_class(row[1])==row[0]):\n",
        "      c+=1\n",
        "      accuracy.append(c/i)\n",
        "    else:\n",
        "      w+=1\n",
        "      loss.append(w/i)\n",
        "    i+=1\n",
        "    if i==n:\n",
        "      break\n",
        "  return [accuracy,loss]"
      ],
      "metadata": {
        "id": "Z1cS6r5CJ1WA"
      },
      "execution_count": 39,
      "outputs": []
    },
    {
      "cell_type": "code",
      "source": [
        "smooth_dev_eval10 = smooth_evaluate(development, 10)"
      ],
      "metadata": {
        "id": "Hp7nwb-ZE6pL"
      },
      "execution_count": 40,
      "outputs": []
    },
    {
      "cell_type": "code",
      "source": [
        "smooth_v_acc = sum(smooth_dev_eval10[0])/len(smooth_dev_eval10[0])*100\n",
        "print(\"Validation Accuracy after Smoothing:\",smooth_v_acc)"
      ],
      "metadata": {
        "colab": {
          "base_uri": "https://localhost:8080/"
        },
        "id": "v5BZxuuiFLJQ",
        "outputId": "3856c87f-9b51-47b2-f416-7f9978e25a3f"
      },
      "execution_count": 41,
      "outputs": [
        {
          "output_type": "stream",
          "name": "stdout",
          "text": [
            "Validation Accuracy after Smoothing: 57.833333333333336\n"
          ]
        }
      ]
    },
    {
      "cell_type": "markdown",
      "source": [
        "# Using test data for calculating accuracy:"
      ],
      "metadata": {
        "id": "NyA1KEn_XBWX"
      }
    },
    {
      "cell_type": "code",
      "source": [
        "test_eval10 = evaluate(test, 10)"
      ],
      "metadata": {
        "id": "rvLK5UjuXZKM"
      },
      "execution_count": 18,
      "outputs": []
    },
    {
      "cell_type": "code",
      "source": [
        "test_acc = sum(test_eval10[0])/len(test_eval10[0])*100\n",
        "print(\"Test Accuracy:\",test_acc)"
      ],
      "metadata": {
        "colab": {
          "base_uri": "https://localhost:8080/"
        },
        "id": "g4On3R5JXIGL",
        "outputId": "bb63571e-2706-45df-addc-1a0982d51f31"
      },
      "execution_count": 20,
      "outputs": [
        {
          "output_type": "stream",
          "name": "stdout",
          "text": [
            "Validation Accuracy after Smoothing: 62.26190476190476\n"
          ]
        }
      ]
    }
  ]
}